{
 "cells": [
  {
   "cell_type": "markdown",
   "metadata": {},
   "source": [
    "# Cookie / Session"
   ]
  },
  {
   "cell_type": "markdown",
   "metadata": {},
   "source": [
    "## Cookie 이용 방식"
   ]
  },
  {
   "cell_type": "markdown",
   "metadata": {},
   "source": [
    "### Before"
   ]
  },
  {
   "cell_type": "code",
   "execution_count": 1,
   "metadata": {},
   "outputs": [
    {
     "data": {
      "text/plain": [
       "'\\n<h2>Welcome to the Website!</h2>\\nWhoops! You logged in wrong. Try again with any username, and the password \"password\"<br><a href=\"login.html\">Log in here</a>'"
      ]
     },
     "execution_count": 1,
     "metadata": {},
     "output_type": "execute_result"
    }
   ],
   "source": [
    "import requests\n",
    "\n",
    "url = 'http://pythonscraping.com/pages/cookies/welcome.php'\n",
    "\n",
    "html = requests.post(url, {'username':'test','password':'password'})\n",
    "html.text "
   ]
  },
  {
   "cell_type": "markdown",
   "metadata": {},
   "source": [
    "### After"
   ]
  },
  {
   "cell_type": "code",
   "execution_count": 3,
   "metadata": {},
   "outputs": [
    {
     "data": {
      "text/plain": [
       "{'loggedin': '1', 'username': 'test'}"
      ]
     },
     "execution_count": 3,
     "metadata": {},
     "output_type": "execute_result"
    }
   ],
   "source": [
    "html.cookies.get_dict()"
   ]
  },
  {
   "cell_type": "code",
   "execution_count": 4,
   "metadata": {},
   "outputs": [
    {
     "data": {
      "text/plain": [
       "'\\n<h2>Welcome to the Website!</h2>\\nYou have logged in successfully! <br><a href=\"profile.php\">Check out your profile!</a>'"
      ]
     },
     "execution_count": 4,
     "metadata": {},
     "output_type": "execute_result"
    }
   ],
   "source": [
    "html = requests.get(url, cookies=html.cookies)\n",
    "html.text"
   ]
  },
  {
   "cell_type": "markdown",
   "metadata": {},
   "source": [
    "## Session 이용 방식"
   ]
  },
  {
   "cell_type": "code",
   "execution_count": 5,
   "metadata": {},
   "outputs": [],
   "source": [
    "session = requests.Session()"
   ]
  },
  {
   "cell_type": "code",
   "execution_count": 6,
   "metadata": {},
   "outputs": [],
   "source": [
    "html = session.post(url, {'username':'test','password':'password'})"
   ]
  },
  {
   "cell_type": "code",
   "execution_count": 7,
   "metadata": {},
   "outputs": [
    {
     "data": {
      "text/plain": [
       "'\\n<h2>Welcome to the Website!</h2>\\nYou have logged in successfully! <br><a href=\"profile.php\">Check out your profile!</a>'"
      ]
     },
     "execution_count": 7,
     "metadata": {},
     "output_type": "execute_result"
    }
   ],
   "source": [
    "html = session.post(url)\n",
    "html.text"
   ]
  },
  {
   "cell_type": "markdown",
   "metadata": {},
   "source": [
    "## 정규식\n",
    "\n",
    "Meta characters\n",
    "\n",
    "- . => Any character(single)\n",
    "- [or] => brakey(범위) one of them\n",
    "- ? => True or False\n",
    "- {m,n} => min=m, max=n\n",
    "- '*' => {0,}\n",
    "- '+' => {1,}\n",
    "- \\d => 숫자\n",
    "- \\w => A-Za-z0-9_\n",
    "- \\s => whitespace\n",
    "- \\b => Word Boundary\n",
    "- \\D => !숫자\n",
    "- \\W => 문자가 아닌 애들\n",
    "- \\S => 공백이 아닌 애들\n",
    "- \\B => \\b가 아닌 애들(글자 사이에 있는 애들)\n",
    "- .+ => 아무글자가 1번(Greedy)\n",
    "- .+? => Lazy\n",
    "- r'' => raw format\n",
    "- () => group"
   ]
  },
  {
   "cell_type": "code",
   "execution_count": 8,
   "metadata": {},
   "outputs": [
    {
     "data": {
      "text/plain": [
       "(['가', '나', '다', '라', '마', '바', '사'],\n",
       " ['가나다', '가가다', '가라다', '가가다'],\n",
       " ['아버지가', '아버지께', '아버지와', '아버지는'],\n",
       " ['아버지', '아버지', '아버지', '아버지', '아지'],\n",
       " ['아버지', '아버지', '아버지', '아버지'],\n",
       " ['아아아아지'],\n",
       " ['A', 'S', 'S', 'D', 'F'],\n",
       " ['ㄱ', 'ㄴ', 'ㅎ', 'ㄷ', 'ㅇ'],\n",
       " ['ㅠㅠ', 'ㅡㅡ', 'ㅣㅣ'],\n",
       " ['ㅅㅂ', 'ㅋㅋ', 'ㅎㅎ'],\n",
       " ['아버', '지가', '아버지께서', '아버지와', '아버지는'])"
      ]
     },
     "execution_count": 8,
     "metadata": {},
     "output_type": "execute_result"
    }
   ],
   "source": [
    "import re\n",
    "\n",
    "re.findall('.','가나다라마바사'), \\\n",
    "re.findall('가.다','가나다라마바사 가가다 가다 가라다 가가가가다'), \\\n",
    "re.findall('아버지.', '아버지가 아버지께서 아버지와 아버지는'), \\\n",
    "re.findall('아.?지', '아버지가 아버지께서 아버지와 아버지는 강아지'), \\\n",
    "re.findall('아.+?지', '아버지가 아버지께서 아버지와 아버지는 강아지'), \\\n",
    "re.findall('아{2,5}지', '아버지가 아버지께서 아버지와 아버지는 강아지 아아아아지'), \\\n",
    "re.findall('[A-Z]', '아버지가 아버지께서 아버지와 아버지는 강AS아SDF지'), \\\n",
    "re.findall('[ㄱ-ㅎ]', 'ㄱㄴㅎㄷㅇ 아버지가 아버지께서 아버지와 아버지는 강AS아SDF지'), \\\n",
    "re.findall('[ㅏ-ㅣ]{2,}', 'ㅠㅠ ㅡㅡ ㅣㅣ 아버지'), \\\n",
    "re.findall('[ㄱ-ㅎ]{2,}', 'ㅅㅂ ㅋㅋ ㅎㅎ'), \\\n",
    "re.findall(r'\\b[가-힣]+\\b', '아버^^지가 아버지께서 아버지와 아버지는')"
   ]
  },
  {
   "cell_type": "code",
   "execution_count": 9,
   "metadata": {},
   "outputs": [],
   "source": [
    "import requests\n",
    "from bs4 import BeautifulSoup\n",
    "header = {'user-agent':'Mozilla/5.0 (Windows NT 10.0; Win64; x64) AppleWebKit/537.36 (KHTML, like Gecko) Chrome/72.0.3626.119 Safari/537.36'}"
   ]
  },
  {
   "cell_type": "code",
   "execution_count": 10,
   "metadata": {},
   "outputs": [],
   "source": [
    "def getDownload(url, param = None, retries = 3):\n",
    "    resp = None\n",
    "    try:\n",
    "        resp = requests.get(url, params = param, headers = header)\n",
    "        resp.raise_for_status()\n",
    "    except requests.exceptions.HTTPError as e:\n",
    "        if 500 <= resp.status_code < 600 and retries > 0:\n",
    "            print('Retries : {0}'.format(retries))\n",
    "            return getDownload(url, param, retries -1)\n",
    "        else:\n",
    "            print(resp.status_code)\n",
    "            print(resp.reason)\n",
    "            print(resp.request.headers)\n",
    "            \n",
    "    return resp"
   ]
  },
  {
   "cell_type": "code",
   "execution_count": 11,
   "metadata": {},
   "outputs": [],
   "source": [
    "url = 'http://example.webscraping.com/places/default/index'\n",
    "resp = getDownload(url)"
   ]
  },
  {
   "cell_type": "code",
   "execution_count": 12,
   "metadata": {},
   "outputs": [
    {
     "data": {
      "text/plain": [
       "(['test@'], [('test', 'domain.com')], [('test', 'domain.co.kr', '.kr')])"
      ]
     },
     "execution_count": 12,
     "metadata": {},
     "output_type": "execute_result"
    }
   ],
   "source": [
    "re.findall(r'[a-z][a-z0-9]{2,}@','test@domain.com'), \\\n",
    "re.findall(r'([a-z][a-z0-9]{2,})@(\\w{3,}[.][a-z]{3}$)','test@domain.com'), \\\n",
    "re.findall(r'([a-z][a-z0-9]{2,})@(\\w{3,}([.][a-z]{2,})+)','test@domain.co.kr')"
   ]
  },
  {
   "cell_type": "code",
   "execution_count": 13,
   "metadata": {},
   "outputs": [],
   "source": [
    "url = 'https://www.google.com/search'\n",
    "params = {\n",
    "    'q':'성소'\n",
    "}\n",
    "resp = getDownload(url, params)"
   ]
  },
  {
   "cell_type": "code",
   "execution_count": 14,
   "metadata": {},
   "outputs": [
    {
     "data": {
      "text/plain": [
       "('성소 - Google 검색',)"
      ]
     },
     "execution_count": 14,
     "metadata": {},
     "output_type": "execute_result"
    }
   ],
   "source": [
    "result = re.search(r'<title>(.+)</title>', resp.text)\n",
    "result.groups(1)"
   ]
  },
  {
   "cell_type": "code",
   "execution_count": 15,
   "metadata": {},
   "outputs": [
    {
     "data": {
      "text/plain": [
       "[('https://www.google.com/search?q=%EC%84%B1%EC%86%8C&amp;gbv=1&amp;sei=GfuKXcDpHIj_wAPQ0YawCA',\n",
       "  '성소(우주소녀) - 나무위키'),\n",
       " ('https://namu.wiki/w/%EC%84%B1%EC%86%8C', '성소 - 나무위키'),\n",
       " ('https://ko.wikipedia.org/wiki/%EC%84%B1%EC%86%8C_(%EA%B0%80%EC%88%98)',\n",
       "  '성소 (가수) - 위키백과, 우리 모두의 백과사전'),\n",
       " ('https://1boon.daum.net/benter/sungso', '비주얼 파티 중이라는 우주소녀 성소 근황 | 1boon'),\n",
       " ('http://news.chosun.com/site/data/html_dir/2018/09/03/2018090301347.html',\n",
       "  '[SC이슈]\"컴백 NO, 예능은 OK\"…우주소녀 성소, 中스케줄 논란 ...'),\n",
       " ('https://news.sbs.co.kr/news/endPage.do?news_id=N1004917577',\n",
       "  '우주소녀, 13명→10명 체제 컴백…\"성소 등 3명은 참여NO\"'),\n",
       " ('https://1boon.kakao.com/newsade/WJSN-SS', '우주소녀 성소, CG 아닌가요? | 1boon'),\n",
       " ('https://www.msn.com/ko-kr/entertainment/music/%EC%9A%B0%EC%A3%BC%EC%86%8C%EB%85%80-wjsn-%EC%84%B1%EC%86%8C-%EC%A4%91%EA%B5%AD%EC%97%90%EC%84%9C%EC%9D%98-%EA%B7%BC%ED%99%A9-%EB%88%88%EA%B8%B8-%E2%80%98%EB%8D%94-%EC%98%88%EB%BB%90%EC%A7%84-%EC%99%B8%EB%AA%A8%E2%80%99/ar-BBRn6hi',\n",
       "  \"우주소녀(WJSN) 성소, 중국에서의 근황 눈길 '더 예뻐진 외모'\")]"
      ]
     },
     "execution_count": 15,
     "metadata": {},
     "output_type": "execute_result"
    }
   ],
   "source": [
    "from html import unescape\n",
    "result = re.findall(r'<a href=\"(.+?)\".+?><h3 class=\"LC20lb\"><div class=\"ellip\">(.+?)</div>', resp.text)\n",
    "[(requests.compat.urljoin(resp.url, _[0]), unescape(_[1])) for _ in result]"
   ]
  },
  {
   "cell_type": "code",
   "execution_count": null,
   "metadata": {},
   "outputs": [],
   "source": []
  },
  {
   "cell_type": "code",
   "execution_count": null,
   "metadata": {},
   "outputs": [],
   "source": []
  },
  {
   "cell_type": "code",
   "execution_count": null,
   "metadata": {},
   "outputs": [],
   "source": []
  },
  {
   "cell_type": "code",
   "execution_count": null,
   "metadata": {},
   "outputs": [],
   "source": []
  },
  {
   "cell_type": "code",
   "execution_count": null,
   "metadata": {},
   "outputs": [],
   "source": []
  }
 ],
 "metadata": {
  "kernelspec": {
   "display_name": "Python 3",
   "language": "python",
   "name": "python3"
  },
  "language_info": {
   "codemirror_mode": {
    "name": "ipython",
    "version": 3
   },
   "file_extension": ".py",
   "mimetype": "text/x-python",
   "name": "python",
   "nbconvert_exporter": "python",
   "pygments_lexer": "ipython3",
   "version": "3.7.3"
  }
 },
 "nbformat": 4,
 "nbformat_minor": 2
}
