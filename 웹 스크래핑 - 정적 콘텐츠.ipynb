{
 "cells": [
  {
   "cell_type": "code",
   "execution_count": 1,
   "metadata": {},
   "outputs": [],
   "source": [
    "import requests\n",
    "from bs4 import BeautifulSoup\n",
    "header = {'user-agent':'Mozilla/5.0 (Windows NT 10.0; Win64; x64; rv:69.0) Gecko/20100101 Firefox/69.0'}"
   ]
  },
  {
   "cell_type": "code",
   "execution_count": 2,
   "metadata": {},
   "outputs": [],
   "source": [
    "def getDownload(url, param = None, retries = 3):\n",
    "    resp = None\n",
    "    try:\n",
    "        resp = requests.get(url, params = param, headers = header)\n",
    "        resp.raise_for_status()\n",
    "    except requests.exceptions.HTTPError as e:\n",
    "        if 500 <= resp.status_code < 600 and retries > 0:\n",
    "            print('Retries : {0}'.format(retries))\n",
    "            return getDownload(url, param, retries -1)\n",
    "        else:\n",
    "            print(resp.status_code)\n",
    "            print(resp.reason)\n",
    "            print(resp.request.headers)\n",
    "            \n",
    "    return resp"
   ]
  },
  {
   "cell_type": "code",
   "execution_count": 3,
   "metadata": {},
   "outputs": [],
   "source": [
    "url = 'https://www.google.com/search'\n",
    "\n",
    "param = {\n",
    "        'q': '성소',\n",
    "        'tbm':'isch'\n",
    "} \n",
    "html = getDownload(url,param)"
   ]
  },
  {
   "cell_type": "code",
   "execution_count": 4,
   "metadata": {},
   "outputs": [],
   "source": [
    "dom = BeautifulSoup(html.content,'html.parser')\n",
    "images = [_ for _ in dom.select('img.rg_ic.rg_i') if _.has_attr('src')]"
   ]
  },
  {
   "cell_type": "code",
   "execution_count": 5,
   "metadata": {},
   "outputs": [],
   "source": [
    "images = [_ for _ in dom.select('div.rg_meta.notranslate')]"
   ]
  },
  {
   "cell_type": "markdown",
   "metadata": {},
   "source": [
    "## 뽐뿌"
   ]
  },
  {
   "cell_type": "markdown",
   "metadata": {},
   "source": [
    "### https://www.ppomppu.co.kr"
   ]
  },
  {
   "cell_type": "code",
   "execution_count": 6,
   "metadata": {},
   "outputs": [],
   "source": [
    "url = 'https://www.ppomppu.co.kr/zboard/zboard.php'\n",
    "param = {'id':'ppomppu'}\n",
    "\n",
    "html = getDownload(url,param)\n",
    "dom = BeautifulSoup(html.text, 'html.parser')"
   ]
  },
  {
   "cell_type": "code",
   "execution_count": 7,
   "metadata": {},
   "outputs": [
    {
     "name": "stdout",
     "output_type": "stream",
     "text": [
      "[위메프] 하림 ��대신닭 왕교자 210g × 10봉 1개 6개입(9,900/무료배송)\n",
      "[G마켓] 스케쳐스 메모리폼 워킹화 바운티풀 (38,220원/무료) 스마일클럽 35,220원 컬쳐적용시 32,220원\n",
      "[SK스토아] 다우니 초고농축 섬유유연제 베리베리와바닐라크림 1L 6개 (20900원, 30%적립/무배)\n",
      "[하이마트몰] USB3.0 SSD외장하드케이스 (7,600/무료)\n",
      "[G9] 재업 르까프 성인 아동 워킹화 1118SG112 모음 (21,700원/무배)\n",
      "[GSHOPPER] 샤오미 공기청정기 2S(103,000 / 무료)\n",
      "[11번가] 바비온 애견이발기 SBC-6630(32,370원/무료배송)\n",
      "[11번가] DELL AW3418HW(699,000원/무료배송)\n",
      "[위메프] BAEBAE 베베 아기물티슈 70gsm GRACE 캡형 70매 10팩 + 10팩 (32,500/무료)\n",
      "[티몬] 오라면/오동통면 4봉 또는 김치라면/스낵면 5봉 (1,900원/무료) 차이 결제 시 1,710원\n",
      "[티몬] 배냇짓 물티슈 체험팩 3종 (2,900원/무료)\n",
      "[g마켓] 주연tv 75인치(988000/무배)\n",
      "[G9] 샤오미 dreame V9 무선 청소기 (136,900원/무료) 스마일클럽용\n",
      "[위메프] 리듀어 리프레싱 타임 클렌징워터 400ml (9,900/무배)\n",
      "[밴드 어플] 투썸 떠먹는 티라미수 (4,720/무료)\n",
      "[G마켓] 마스 몰티져스 crunch chocolates candies-878.9 g (23,050원/무료)\n",
      "[위메프] 오늘의 음식 빌런 추천 픽 [소곱창전골/만두/김치10kg] 소곱창전골 1kg 기준 (7,900/무배)\n",
      "[sk매직몰] 식기세척기 DWA80R0D 25% 할인 (937,500/무료)\n"
     ]
    }
   ],
   "source": [
    "for tag in dom.select('.list_title'):\n",
    "    print(tag.text)"
   ]
  },
  {
   "cell_type": "markdown",
   "metadata": {},
   "source": [
    "### 상대주소"
   ]
  },
  {
   "cell_type": "code",
   "execution_count": 8,
   "metadata": {},
   "outputs": [
    {
     "name": "stdout",
     "output_type": "stream",
     "text": [
      "zboard.php?id=ppomppu&page=1&divpage=57&no=329913\n",
      "zboard.php?id=ppomppu&page=1&divpage=57&no=329912\n",
      "zboard.php?id=ppomppu&page=1&divpage=57&no=329911\n",
      "zboard.php?id=ppomppu&page=1&divpage=57&no=329910\n",
      "zboard.php?id=ppomppu&page=1&divpage=57&no=329909\n",
      "zboard.php?id=ppomppu&page=1&divpage=57&no=329908\n",
      "zboard.php?id=ppomppu&page=1&divpage=57&no=329905\n",
      "zboard.php?id=ppomppu&page=1&divpage=57&no=329904\n",
      "zboard.php?id=ppomppu&page=1&divpage=57&no=329903\n",
      "zboard.php?id=ppomppu&page=1&divpage=57&no=329902\n",
      "zboard.php?id=ppomppu&page=1&divpage=57&no=329901\n",
      "zboard.php?id=ppomppu&page=1&divpage=57&no=329900\n",
      "zboard.php?id=ppomppu&page=1&divpage=57&no=329899\n",
      "zboard.php?id=ppomppu&page=1&divpage=57&no=329898\n",
      "zboard.php?id=ppomppu&page=1&divpage=57&no=329897\n",
      "zboard.php?id=ppomppu&page=1&divpage=57&no=329895\n",
      "zboard.php?id=ppomppu&page=1&divpage=57&no=329894\n",
      "zboard.php?id=ppomppu&page=1&divpage=57&no=329891\n"
     ]
    }
   ],
   "source": [
    "for tag in dom.select('.list_title'): \n",
    "    if tag.find_parent().has_attr('href'):\n",
    "        print(tag.find_parent()['href'])"
   ]
  },
  {
   "cell_type": "code",
   "execution_count": null,
   "metadata": {},
   "outputs": [],
   "source": [
    "절대주소"
   ]
  },
  {
   "cell_type": "code",
   "execution_count": null,
   "metadata": {},
   "outputs": [],
   "source": [
    "for tag in dom.select('.list_title'):\n",
    "    if tag.find_parent().has_attr('href'):\n",
    "        link = requests.compat.urljoin(url, tag.find_parent()['href'])\n",
    "        print(link)"
   ]
  },
  {
   "cell_type": "code",
   "execution_count": null,
   "metadata": {},
   "outputs": [],
   "source": [
    "for tag in dom.select('img.thumb_border'):\n",
    "    print(tag['src'])"
   ]
  },
  {
   "cell_type": "code",
   "execution_count": null,
   "metadata": {},
   "outputs": [],
   "source": [
    "for tag in dom.select('td.eng.list_vspace'):\n",
    "    if tag.has_attr('title'):\n",
    "        print(tag['title'])"
   ]
  },
  {
   "cell_type": "code",
   "execution_count": null,
   "metadata": {},
   "outputs": [],
   "source": [
    "for tag in dom.select('.list1'):\n",
    "    tdList = tag.find_all('td',recursive=False) # row에 있는 td 수\n",
    "#     print(len(tdList))\n",
    "    \n",
    "#     print(tdList[3].text.strip()) 밑에처럼 분석\n",
    "    print('http:' + tdList[3].find('img')['src'])\n",
    "    salesComplete = tdList[3].select_one('.list_title')\n",
    "    if salesComplete != None:                   # 판매 종료시 None 값이 나와서 추가 시켜줬습니다.\n",
    "        print(tdList[3].select_one('.list_title').text)\n",
    "    \n",
    "#     print(tdList[4].text.strip())\n",
    "    print(tdList[4]['title'])\n",
    "    \n",
    "#      print(tdList[5].text.strip())\n",
    "    print(tdList[5].text.split('-')[0].strip())\n",
    "    \n",
    "#     print(tdList[6].text.strip())\n",
    "    print(tdList[6].text.strip(), end='\\n\\n')"
   ]
  },
  {
   "cell_type": "code",
   "execution_count": null,
   "metadata": {},
   "outputs": [],
   "source": [
    "자유게시판"
   ]
  },
  {
   "cell_type": "code",
   "execution_count": null,
   "metadata": {},
   "outputs": [],
   "source": [
    "url = 'https://www.ppomppu.co.kr/zboard/zboard.php'\n",
    "param = {'id':'freeboard'}\n",
    "\n",
    "html = getDownload(url,param)\n",
    "dom = BeautifulSoup(html.text, 'html.parser')"
   ]
  },
  {
   "cell_type": "code",
   "execution_count": null,
   "metadata": {},
   "outputs": [],
   "source": [
    "links = []\n",
    "\n",
    "for tag in dom.select('font.list_title'):\n",
    "    print(tag.text)\n",
    "    print(tag.find_parent()['href'])# 상대주소\n",
    "    print(requests.compat.urljoin(url, tag.find_parent()['href'])) # 절대주소\n",
    "    links.append(requests.compat.urljoin(url, tag.find_parent()['href']))"
   ]
  },
  {
   "cell_type": "code",
   "execution_count": null,
   "metadata": {},
   "outputs": [],
   "source": [
    "내용"
   ]
  },
  {
   "cell_type": "code",
   "execution_count": null,
   "metadata": {},
   "outputs": [],
   "source": [
    "for link in links[1:]:\n",
    "#if link.split('=')[1] != 'consulting':\n",
    "    html = getDownload(link)\n",
    "    dom = BeautifulSoup(html.text ,'html.parser')\n",
    "    print('내용 : ' + dom.select_one('table.pic_bg td.han').text.strip())\n",
    "#     for tag in dom.select('td,han'):\n",
    "#         print(tag.text)\n",
    "    break"
   ]
  },
  {
   "cell_type": "code",
   "execution_count": null,
   "metadata": {},
   "outputs": [],
   "source": [
    "댓글"
   ]
  },
  {
   "cell_type": "code",
   "execution_count": null,
   "metadata": {},
   "outputs": [],
   "source": [
    "for tag in dom.select('#quote div.han'):\n",
    "    print('댓글 : ' + tag.text.strip(), end='\\n\\n')"
   ]
  },
  {
   "cell_type": "code",
   "execution_count": null,
   "metadata": {},
   "outputs": [],
   "source": [
    "제목 + 내용 + 댓글"
   ]
  },
  {
   "cell_type": "code",
   "execution_count": null,
   "metadata": {},
   "outputs": [],
   "source": [
    "for link in links[1:10]:\n",
    "    html = getDownload(link)\n",
    "    dom = BeautifulSoup(html.text ,'html.parser')\n",
    "    title = dom.select_one('font.view_title2').text.strip()\n",
    "    content = dom.select_one('table.pic_bg td.han').text.strip()\n",
    "    reply = dom.select('#quote div.han')\n",
    "\n",
    "    print('제목 : ' + title, end='\\n\\n')\n",
    "    print('내용 : ' + content, end='\\n\\n')\n",
    "    \n",
    "    if len(reply) > 0:\n",
    "        for tag in reply:\n",
    "            print('댓글 : ' + tag.text.strip(), end='\\n\\n')\n",
    "    print('==========================================================')"
   ]
  },
  {
   "cell_type": "code",
   "execution_count": null,
   "metadata": {},
   "outputs": [],
   "source": []
  }
 ],
 "metadata": {
  "kernelspec": {
   "display_name": "Python 3",
   "language": "python",
   "name": "python3"
  },
  "language_info": {
   "codemirror_mode": {
    "name": "ipython",
    "version": 3
   },
   "file_extension": ".py",
   "mimetype": "text/x-python",
   "name": "python",
   "nbconvert_exporter": "python",
   "pygments_lexer": "ipython3",
   "version": "3.7.3"
  }
 },
 "nbformat": 4,
 "nbformat_minor": 2
}
