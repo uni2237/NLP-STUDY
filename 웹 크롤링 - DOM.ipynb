{
 "cells": [
  {
   "cell_type": "markdown",
   "metadata": {},
   "source": [
    "# DOM"
   ]
  },
  {
   "cell_type": "markdown",
   "metadata": {},
   "source": [
    "### BeautifulSoup 설치"
   ]
  },
  {
   "cell_type": "code",
   "execution_count": 1,
   "metadata": {},
   "outputs": [],
   "source": [
    "# !pip install beautifulsoup4\n",
    "from bs4 import BeautifulSoup"
   ]
  },
  {
   "cell_type": "code",
   "execution_count": 2,
   "metadata": {},
   "outputs": [],
   "source": [
    "# Test html \n",
    "html = '''\n",
    "<html>\n",
    "    <head></head>\n",
    "    <body>\n",
    "        <div id = 'result'>\n",
    "           <p class = 'row'>\n",
    "               <a class = 'red'>Go to page1</a>\n",
    "               <a class = 'blue'>Go to page2</a>\n",
    "            </p>\n",
    "        </div>\n",
    "    </body>\n",
    "</html>\n",
    "'''\n",
    "\n",
    "dom = BeautifulSoup(html, 'lxml')"
   ]
  },
  {
   "cell_type": "code",
   "execution_count": 3,
   "metadata": {},
   "outputs": [
    {
     "data": {
      "text/plain": [
       "(bs4.element.Tag, bs4.element.Tag)"
      ]
     },
     "execution_count": 3,
     "metadata": {},
     "output_type": "execute_result"
    }
   ],
   "source": [
    "type(dom.html.head), type(dom.html)"
   ]
  },
  {
   "cell_type": "code",
   "execution_count": 4,
   "metadata": {},
   "outputs": [
    {
     "data": {
      "text/plain": [
       "(<a class=\"red\">Go to page1</a>, <a class=\"red\">Go to page1</a>)"
      ]
     },
     "execution_count": 4,
     "metadata": {},
     "output_type": "execute_result"
    }
   ],
   "source": [
    "dom.a, dom.find('a')"
   ]
  },
  {
   "cell_type": "code",
   "execution_count": 5,
   "metadata": {},
   "outputs": [
    {
     "name": "stdout",
     "output_type": "stream",
     "text": [
      "a ['red'] Go to page1\n",
      "a ['blue'] Go to page2\n"
     ]
    }
   ],
   "source": [
    "for tag in dom.find_all('a'):\n",
    "    print(tag.name, tag['class'], tag.text)"
   ]
  },
  {
   "cell_type": "code",
   "execution_count": 6,
   "metadata": {},
   "outputs": [
    {
     "data": {
      "text/plain": [
       "[<a class=\"blue\">Go to page2</a>]"
      ]
     },
     "execution_count": 6,
     "metadata": {},
     "output_type": "execute_result"
    }
   ],
   "source": [
    "dom.find_all('a', {'class':'blue'})"
   ]
  },
  {
   "cell_type": "code",
   "execution_count": 7,
   "metadata": {},
   "outputs": [
    {
     "data": {
      "text/plain": [
       "[<div id=\"result\">\n",
       " <p class=\"row\">\n",
       " <a class=\"red\">Go to page1</a>\n",
       " <a class=\"blue\">Go to page2</a>\n",
       " </p>\n",
       " </div>, <a class=\"red\">Go to page1</a>, <a class=\"blue\">Go to page2</a>]"
      ]
     },
     "execution_count": 7,
     "metadata": {},
     "output_type": "execute_result"
    }
   ],
   "source": [
    "dom.find_all(['div', 'a'])"
   ]
  },
  {
   "cell_type": "code",
   "execution_count": 8,
   "metadata": {},
   "outputs": [
    {
     "data": {
      "text/plain": [
       "[<div id=\"result\">\n",
       " <p class=\"row\">\n",
       " <a class=\"red\">Go to page1</a>\n",
       " <a class=\"blue\">Go to page2</a>\n",
       " </p>\n",
       " </div>]"
      ]
     },
     "execution_count": 8,
     "metadata": {},
     "output_type": "execute_result"
    }
   ],
   "source": [
    "dom.find_all('', {'id':'result'}) "
   ]
  },
  {
   "cell_type": "code",
   "execution_count": 9,
   "metadata": {},
   "outputs": [
    {
     "ename": "SyntaxError",
     "evalue": "invalid syntax (<ipython-input-9-f02b11275570>, line 1)",
     "output_type": "error",
     "traceback": [
      "\u001b[1;36m  File \u001b[1;32m\"<ipython-input-9-f02b11275570>\"\u001b[1;36m, line \u001b[1;32m1\u001b[0m\n\u001b[1;33m    http://pythonscraping.com/pages/page3.html (Test Url)\u001b[0m\n\u001b[1;37m          ^\u001b[0m\n\u001b[1;31mSyntaxError\u001b[0m\u001b[1;31m:\u001b[0m invalid syntax\n"
     ]
    }
   ],
   "source": [
    "http://pythonscraping.com/pages/page3.html (Test Url)"
   ]
  },
  {
   "cell_type": "code",
   "execution_count": 10,
   "metadata": {},
   "outputs": [],
   "source": [
    "from urllib import parse\n",
    "import requests\n",
    "\n",
    "header = {'user-agent':'Mozilla/5.0 (Windows NT 10.0; Win64; x64) AppleWebKit/537.36 (KHTML, like Gecko) Chrome/73.0.3683.103 Safari/537.36'}\n",
    "\n",
    "def getDownload(url, params={}, retries=3):\n",
    "    resp = None\n",
    "    \n",
    "    try:\n",
    "        resp = requests.get(url, params=params, headers=header)\n",
    "        resp.raise_for_status()\n",
    "    except requests.exceptions.HTTPError as e:\n",
    "        if 500 <= e.response.status_code < 600 and retries > 0:\n",
    "            print(retries)\n",
    "            resp = getDownload(url, params, retries-1)\n",
    "        else:\n",
    "            print(e.response.status_code)\n",
    "            print(e.response.reason)\n",
    "            print(e.response.headers)\n",
    "            \n",
    "    return resp"
   ]
  },
  {
   "cell_type": "code",
   "execution_count": 11,
   "metadata": {},
   "outputs": [],
   "source": [
    "# html.text\n",
    "url = 'http://pythonscraping.com/pages/page3.html'\n",
    "html = getDownload(url)\n",
    "dom = BeautifulSoup(html.text, 'lxml')\n",
    "footer = dom.find('div', {'id':'footer'})\n"
   ]
  },
  {
   "cell_type": "code",
   "execution_count": 12,
   "metadata": {},
   "outputs": [
    {
     "data": {
      "text/plain": [
       "('div', {'id': 'wrapper'})"
      ]
     },
     "execution_count": 12,
     "metadata": {},
     "output_type": "execute_result"
    }
   ],
   "source": [
    "parent = footer.find_parent()\n",
    "parent.name, parent.attrs"
   ]
  },
  {
   "cell_type": "code",
   "execution_count": 13,
   "metadata": {},
   "outputs": [],
   "source": [
    "# children tag의 하부 tree 뿐 아니라 형제 Tree의 하부 까지 모두 찾는다.\n",
    "children = parent.find_all()\n",
    "# children"
   ]
  },
  {
   "cell_type": "code",
   "execution_count": 14,
   "metadata": {},
   "outputs": [
    {
     "name": "stdout",
     "output_type": "stream",
     "text": [
      "img {'src': '../img/gifts/logo.jpg', 'style': 'float:left;'}\n",
      "h1 {}\n",
      "div {'id': 'content'}\n",
      "table {'id': 'giftList'}\n",
      "div {'id': 'footer'}\n"
     ]
    }
   ],
   "source": [
    "# recursive=False로 지정하면, 원래의 children tag의 하부 Tree 만 찾는다.\n",
    "children = parent.find_all(recursive=False)\n",
    "for row in children:\n",
    "    print(row.name, row.attrs)"
   ]
  },
  {
   "cell_type": "code",
   "execution_count": 15,
   "metadata": {},
   "outputs": [
    {
     "name": "stdout",
     "output_type": "stream",
     "text": [
      "img {'src': '../img/gifts/logo.jpg', 'style': 'float:left;'}\n",
      "h1 {}\n",
      "div {'id': 'content'}\n",
      "p {}\n",
      "br {}\n",
      "br {}\n",
      "table {'id': 'giftList'}\n",
      "tr {}\n",
      "th {}\n",
      "th {}\n",
      "th {}\n",
      "th {}\n",
      "tr {'id': 'gift1', 'class': ['gift']}\n",
      "td {}\n",
      "td {}\n",
      "span {'class': ['excitingNote']}\n",
      "td {}\n",
      "td {}\n",
      "img {'src': '../img/gifts/img1.jpg'}\n",
      "tr {'id': 'gift2', 'class': ['gift']}\n",
      "td {}\n",
      "td {}\n",
      "span {'class': ['excitingNote']}\n",
      "td {}\n",
      "td {}\n",
      "img {'src': '../img/gifts/img2.jpg'}\n",
      "tr {'id': 'gift3', 'class': ['gift']}\n",
      "td {}\n",
      "td {}\n",
      "span {'class': ['excitingNote']}\n",
      "td {}\n",
      "td {}\n",
      "img {'src': '../img/gifts/img3.jpg'}\n",
      "tr {'id': 'gift4', 'class': ['gift']}\n",
      "td {}\n",
      "td {}\n",
      "span {'class': ['excitingNote']}\n",
      "td {}\n",
      "td {}\n",
      "img {'src': '../img/gifts/img4.jpg'}\n",
      "tr {'id': 'gift5', 'class': ['gift']}\n",
      "td {}\n",
      "td {}\n",
      "span {'class': ['excitingNote']}\n",
      "td {}\n",
      "td {}\n",
      "img {'src': '../img/gifts/img6.jpg'}\n",
      "div {'id': 'footer'}\n",
      "br {}\n"
     ]
    }
   ],
   "source": [
    "descendants = parent.find_all()\n",
    "for row in descendants:\n",
    "    print(row.name, row.attrs)"
   ]
  },
  {
   "cell_type": "code",
   "execution_count": 16,
   "metadata": {},
   "outputs": [
    {
     "name": "stdout",
     "output_type": "stream",
     "text": [
      "p {} \n",
      "We haven't figured out how to make online shopping carts yet, but you can send us a check to:\n",
      "123 Main St.\n",
      "Abuja, Nigeria\n",
      "We will then send your totally amazing gift, pronto! Please include an extra $5.00 for gift wrapping.\n"
     ]
    }
   ],
   "source": [
    "divChildren = children[2].find_all(recursive = False)\n",
    "for row in divChildren:\n",
    "    print(row.name, row.attrs, row.text)"
   ]
  },
  {
   "cell_type": "code",
   "execution_count": 17,
   "metadata": {},
   "outputs": [
    {
     "data": {
      "text/plain": [
       "('h1', 'h1')"
      ]
     },
     "execution_count": 17,
     "metadata": {},
     "output_type": "execute_result"
    }
   ],
   "source": [
    "divTag = children[2]\n",
    "children[1].name, divTag.find_previous_sibling().name"
   ]
  },
  {
   "cell_type": "code",
   "execution_count": 18,
   "metadata": {},
   "outputs": [
    {
     "data": {
      "text/plain": [
       "[<table id=\"giftList\">\n",
       " <tr><th>\n",
       " Item Title\n",
       " </th><th>\n",
       " Description\n",
       " </th><th>\n",
       " Cost\n",
       " </th><th>\n",
       " Image\n",
       " </th></tr>\n",
       " <tr class=\"gift\" id=\"gift1\"><td>\n",
       " Vegetable Basket\n",
       " </td><td>\n",
       " This vegetable basket is the perfect gift for your health conscious (or overweight) friends!\n",
       " <span class=\"excitingNote\">Now with super-colorful bell peppers!</span>\n",
       " </td><td>\n",
       " $15.00\n",
       " </td><td>\n",
       " <img src=\"../img/gifts/img1.jpg\"/>\n",
       " </td></tr>\n",
       " <tr class=\"gift\" id=\"gift2\"><td>\n",
       " Russian Nesting Dolls\n",
       " </td><td>\n",
       " Hand-painted by trained monkeys, these exquisite dolls are priceless! And by \"priceless,\" we mean \"extremely expensive\"! <span class=\"excitingNote\">8 entire dolls per set! Octuple the presents!</span>\n",
       " </td><td>\n",
       " $10,000.52\n",
       " </td><td>\n",
       " <img src=\"../img/gifts/img2.jpg\"/>\n",
       " </td></tr>\n",
       " <tr class=\"gift\" id=\"gift3\"><td>\n",
       " Fish Painting\n",
       " </td><td>\n",
       " If something seems fishy about this painting, it's because it's a fish! <span class=\"excitingNote\">Also hand-painted by trained monkeys!</span>\n",
       " </td><td>\n",
       " $10,005.00\n",
       " </td><td>\n",
       " <img src=\"../img/gifts/img3.jpg\"/>\n",
       " </td></tr>\n",
       " <tr class=\"gift\" id=\"gift4\"><td>\n",
       " Dead Parrot\n",
       " </td><td>\n",
       " This is an ex-parrot! <span class=\"excitingNote\">Or maybe he's only resting?</span>\n",
       " </td><td>\n",
       " $0.50\n",
       " </td><td>\n",
       " <img src=\"../img/gifts/img4.jpg\"/>\n",
       " </td></tr>\n",
       " <tr class=\"gift\" id=\"gift5\"><td>\n",
       " Mystery Box\n",
       " </td><td>\n",
       " If you love suprises, this mystery box is for you! Do not place on light-colored surfaces. May cause oil staining. <span class=\"excitingNote\">Keep your friends guessing!</span>\n",
       " </td><td>\n",
       " $1.50\n",
       " </td><td>\n",
       " <img src=\"../img/gifts/img6.jpg\"/>\n",
       " </td></tr>\n",
       " </table>, <div id=\"footer\">\n",
       " © Totally Normal Gifts, Inc. <br/>\n",
       " +234 (617) 863-0736\n",
       " </div>]"
      ]
     },
     "execution_count": 18,
     "metadata": {},
     "output_type": "execute_result"
    }
   ],
   "source": [
    "divTag.find_next_siblings() # 이웃"
   ]
  },
  {
   "cell_type": "code",
   "execution_count": 19,
   "metadata": {},
   "outputs": [
    {
     "data": {
      "text/plain": [
       "True"
      ]
     },
     "execution_count": 19,
     "metadata": {},
     "output_type": "execute_result"
    }
   ],
   "source": [
    "children[3] == divTag.find_next_sibling()"
   ]
  },
  {
   "cell_type": "markdown",
   "metadata": {},
   "source": [
    "### Cost 값만 모두 가져와 봅시다"
   ]
  },
  {
   "cell_type": "code",
   "execution_count": 21,
   "metadata": {},
   "outputs": [
    {
     "name": "stdout",
     "output_type": "stream",
     "text": [
      "Cost\n",
      "$15.00\n",
      "$10,000.52\n",
      "$10,005.00\n",
      "$0.50\n",
      "$1.50\n"
     ]
    }
   ],
   "source": [
    "aList = dom.find_all('tr')\n",
    "for row in aList:\n",
    "    print(row.find_all(recursive = False)[2].text.strip())"
   ]
  },
  {
   "cell_type": "markdown",
   "metadata": {},
   "source": [
    "## Google"
   ]
  },
  {
   "cell_type": "code",
   "execution_count": 23,
   "metadata": {},
   "outputs": [
    {
     "name": "stdout",
     "output_type": "stream",
     "text": [
      "성소(우주소녀) - 나무위키\n",
      "https://namu.wiki/w/%EC%84%B1%EC%86%8C(%EC%9A%B0%EC%A3%BC%EC%86%8C%EB%85%80)\n",
      "성소 - 나무위키\n",
      "https://namu.wiki/w/%EC%84%B1%EC%86%8C\n",
      "성소 (가수) - 위키백과, 우리 모두의 백과사전\n",
      "https://ko.wikipedia.org/wiki/%EC%84%B1%EC%86%8C_(%EA%B0%80%EC%88%98)\n",
      "비주얼 파티 중이라는 우주소녀 성소 근황 | 1boon\n",
      "https://1boon.daum.net/benter/sungso\n",
      "[SC이슈]\"컴백 NO, 예능은 OK\"…우주소녀 성소, 中스케줄 논란 - 조선일보\n",
      "http://news.chosun.com/site/data/html_dir/2018/09/03/2018090301347.html\n",
      "우주소녀, 13명→10명 체제 컴백…\"성소 등 3명은 참여NO\" - SBS 뉴스\n",
      "https://news.sbs.co.kr/news/endPage.do?news_id=N1004917577\n",
      "우주소녀 성소, CG 아닌가요? | 1boon\n",
      "https://1boon.kakao.com/newsade/WJSN-SS\n",
      "우주소녀(WJSN) 성소, 중국에서의 근황 눈길 '더 예뻐진 외모' - MSN.com\n",
      "https://www.msn.com/ko-kr/entertainment/music/%EC%9A%B0%EC%A3%BC%EC%86%8C%EB%85%80-wjsn-%EC%84%B1%EC%86%8C-%EC%A4%91%EA%B5%AD%EC%97%90%EC%84%9C%EC%9D%98-%EA%B7%BC%ED%99%A9-%EB%88%88%EA%B8%B8-%E2%80%98%EB%8D%94-%EC%98%88%EB%BB%90%EC%A7%84-%EC%99%B8%EB%AA%A8%E2%80%99/ar-BBRn6hi\n"
     ]
    }
   ],
   "source": [
    "# url = 'https://www.google.com/search?ei=olCDXIG-EpGNr7wPucGkuAc&q=%ED%8C%8C%EC%9D%B4%EC%8D%AC&oq=%ED%8C%8C%EC%9D%B4%EC%8D%AC&gs_l=psy-ab.3..35i39l2j0i67j0l6j0i20i263.9312.9312..9658...0.0..0.111.111.0j1......0....1..gws-wiz.y-nzWDsTdd0'\n",
    "# html = getDownload(url)\n",
    "\n",
    "url = 'https://www.google.com/search'\n",
    "params = {'q':'성소'}\n",
    "html = getDownload(url,params)\n",
    "\n",
    "dom = BeautifulSoup(html.text, 'lxml')\n",
    "\n",
    "for tag in dom.find_all('', {'class':'r'}):\n",
    "    print(tag.find('h3').text)\n",
    "    print(tag.find('a')['href'])"
   ]
  },
  {
   "cell_type": "markdown",
   "metadata": {},
   "source": [
    "## Naver"
   ]
  },
  {
   "cell_type": "code",
   "execution_count": 24,
   "metadata": {},
   "outputs": [
    {
     "name": "stdout",
     "output_type": "stream",
     "text": [
      "우주소녀(WJSN) 성소, 인스타그램 속 여전한 미모…한국 활동은 ...\n",
      "https://m.post.naver.com/viewer/postView.nhn?volumeNo=22868844&memberNo=38506&vType=VERTICAL\n",
      "창해일성소\n",
      "https://m.post.naver.com/viewer/postView.nhn?volumeNo=24687927&memberNo=30850&vType=VERTICAL\n",
      "성소 聖召\n",
      "https://m.post.naver.com/viewer/postView.nhn?volumeNo=19991347&memberNo=2913016&vType=VERTICAL\n",
      "수원가톨릭대학교 역사홍보관 개관\n",
      "https://www.catholictimes.org/article/article_view.php?aid=318765\n",
      "“완벽한 장소는 없다! 다만 완벽한 고독이 있을 뿐이다!”\n",
      "http://www.cpbc.co.kr/CMS/newspaper/view_body.php?cid=763050&path=201909\n",
      "[사제인사] 부산교구\n",
      "https://www.catholictimes.org/article/article_view.php?aid=318793\n",
      "[사제인사] 부산교구, 10월 4일 부\n",
      "http://www.cpbc.co.kr/CMS/newspaper/view_body.php?cid=762923&path=201909\n",
      "더 강해지는 영웅 무기, 킹스레이드 '소울웨폰' 영상 공개\n",
      "https://www.gamemeca.com/mv.php?inflow=naver_s&gid=1583818\n",
      " 부산성소병원   \n",
      "http://www.seongso.co.kr/\n",
      " 성소 - 나무위키   \n",
      "https://namu.wiki/w/%EC%84%B1%EC%86%8C\n",
      " 안동성소병원   \n",
      "http://www.sungso.com/\n",
      " 안동성소병원편도제거수술후기 \n",
      "https://blog.naver.com/ccmjj?Redirect=Log&logNo=221440296682\n",
      " 성소후원회 9월 월례미사 \n",
      "https://rlaghgjs.blog.me/221657900716\n",
      " 레위의 온 지파 - 하나님을 섬기고 성소에서 봉사하기 위해 \n",
      "https://blog.naver.com/jkp5732?Redirect=Log&logNo=221654680910\n",
      " 마음속 성소(聖所)와 다락방 \n",
      "https://blog.aladin.co.kr/fallen77/10379774\n",
      " 교황 “교회는 성소를 필요로 합니다” \n",
      "https://ponciano.blog.me/221557473384\n"
     ]
    }
   ],
   "source": [
    "# url = 'https://search.naver.com/search.naver?sm=tab_hty.top&where=nexearch&query=%ED%8C%8C%EC%9D%B4%EC%8D%AC&oquery=%ED%8C%8C%EC%9D%B4%EC%8D%AC+%EC%9E%90%EC%8A%B5%EC%84%9C&tqi=U45RzdpVuENssbhJI5Cssssstts-309327'\n",
    "# html = getDownload(url)\n",
    "\n",
    "url = 'https://search.naver.com/search.naver'\n",
    "params = {'query':'성소'}\n",
    "html = getDownload(url,params)\n",
    "\n",
    "dom = BeautifulSoup(html.text, 'lxml')\n",
    "\n",
    "for tags in dom.find_all('',{'class':('type01','sc_kindic')}):\n",
    "    for tag in tags.find_all('dt'):\n",
    "        print(tag.text)\n",
    "        print(tag.find('a')['href'])"
   ]
  },
  {
   "cell_type": "code",
   "execution_count": null,
   "metadata": {},
   "outputs": [],
   "source": []
  },
  {
   "cell_type": "code",
   "execution_count": null,
   "metadata": {},
   "outputs": [],
   "source": []
  },
  {
   "cell_type": "code",
   "execution_count": null,
   "metadata": {},
   "outputs": [],
   "source": []
  },
  {
   "cell_type": "code",
   "execution_count": null,
   "metadata": {},
   "outputs": [],
   "source": []
  }
 ],
 "metadata": {
  "kernelspec": {
   "display_name": "Python 3",
   "language": "python",
   "name": "python3"
  },
  "language_info": {
   "codemirror_mode": {
    "name": "ipython",
    "version": 3
   },
   "file_extension": ".py",
   "mimetype": "text/x-python",
   "name": "python",
   "nbconvert_exporter": "python",
   "pygments_lexer": "ipython3",
   "version": "3.7.3"
  }
 },
 "nbformat": 4,
 "nbformat_minor": 2
}
